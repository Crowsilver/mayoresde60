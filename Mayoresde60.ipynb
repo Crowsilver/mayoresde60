{
 "cells": [
  {
   "cell_type": "markdown",
   "id": "b4f1b99d-06e3-4d7f-b774-79c7cc26cb1c",
   "metadata": {},
   "source": [
    "# Fast promping - Zero shoot prompt"
   ]
  },
  {
   "cell_type": "markdown",
   "id": "d6c3b3f0-69f6-4c91-ab50-ac2b08b83d8e",
   "metadata": {},
   "source": [
    "# Proyecto: Generador de Listas de Actividades Culturales para Mayores de 60 Años\n",
    "Introducción:\n",
    "\n",
    "Nombre del Proyecto: Generador de Actividades Culturales para Mayores\n",
    "\n",
    "Problema a Abordar: Las personas mayores de 60 años a menudo tienen dificultades para encontrar actividades culturales relevantes y accesibles. Este proyecto busca facilitar el acceso a información sobre actividades culturales, mejorando su calidad de vida y promoviendo un envejecimiento activo.\n",
    "\n",
    "Relevancia: Proveer información clara y accesible sobre actividades culturales puede fomentar la participación social y el bienestar de las personas mayores.\n",
    "\n",
    "Desarrollo de la Propuesta de Solución:\n",
    "\n",
    "Solución Propuesta: Utilizar técnicas de scraping web y procesamiento de lenguaje natural (NLP) para recopilar y organizar información sobre actividades culturales.\n",
    "\n",
    "Prompts Utilizados: Desarrollar prompts para extraer datos de sitios web relevantes y estructurarlos en listas claras y accesibles.\n",
    "\n",
    "Justificación de la Viabilidad del Proyecto:\n",
    "\n",
    "Viabilidad Técnica: Utilizar bibliotecas de Python como BeautifulSoup para scraping web y NLTK para procesamiento de lenguaje natural. El proyecto es viable dentro del tiempo y los recursos disponibles.\n",
    "\n",
    "Elecciones Justificadas: Selección de fuentes confiables de información cultural y uso de técnicas de NLP para mejorar la precisión de los datos extraídos.\n",
    "\n",
    "Objetivos:\n",
    "\n",
    "Desarrollar un sistema que genere listas de actividades culturales con una precisión superior al 90%.\n",
    "\n",
    "Implementar una interfaz de usuario simple para que las personas mayores puedan acceder fácilmente a la información.\n",
    "\n",
    "Metodología:\n",
    "\n",
    "Procedimientos: Recolectar y preprocesar datos, entrenar el modelo de NLP, evaluar su rendimiento y ajustar los parámetros.\n",
    "\n",
    "Justificación: Utilizar técnicas de scraping y NLP para aprovechar la capacidad de los modelos de lenguaje en la extracción y organización de información.\n",
    "\n",
    "Herramientas y Tecnologías:\n",
    "\n",
    "Técnicas de Prompting: Utilizar prompts para guiar el scraping web y el procesamiento de datos.\n",
    "\n",
    "Tecnologías: Python, BeautifulSoup, NLTK, Jupyter Notebook."
   ]
  },
  {
   "cell_type": "code",
   "execution_count": null,
   "id": "d7dac1c0-a8e3-4830-9d5a-1dc9917a46f6",
   "metadata": {},
   "outputs": [],
   "source": [
    "import openai\n",
    "\n",
    "# Configurar la API de OpenAI\n",
    "openai.api_key = 'TU_API_KEY'\n",
    "\n",
    "# Función para generar actividades culturales\n",
    "def generar_actividades(prompt):\n",
    "    response = openai.Completion.create(\n",
    "        engine=\"text-davinci-003\",\n",
    "        prompt=prompt,\n",
    "        max_tokens=150\n",
    "    )\n",
    "    return response.choices[0].text.strip()\n",
    "\n",
    "# Prompt para generar actividades culturales\n",
    "prompt = \"\"\"\n",
    "Genera una lista de actividades culturales relevantes para personas mayores de 60 años, incluyendo descripciones claras, horarios y ubicaciones.\n",
    "\"\"\"\n",
    "\n",
    "# Generar actividades culturales\n",
    "actividades = generar_actividades(prompt)\n",
    "print(actividades)\n"
   ]
  }
 ],
 "metadata": {
  "kernelspec": {
   "display_name": "Python 3 (ipykernel)",
   "language": "python",
   "name": "python3"
  },
  "language_info": {
   "codemirror_mode": {
    "name": "ipython",
    "version": 3
   },
   "file_extension": ".py",
   "mimetype": "text/x-python",
   "name": "python",
   "nbconvert_exporter": "python",
   "pygments_lexer": "ipython3",
   "version": "3.11.7"
  }
 },
 "nbformat": 4,
 "nbformat_minor": 5
}
